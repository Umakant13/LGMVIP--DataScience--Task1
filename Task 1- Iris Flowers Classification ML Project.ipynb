{
 "cells": [
  {
   "cell_type": "markdown",
   "id": "7e8393a7",
   "metadata": {},
   "source": [
    "# Task 1 - Iris Flowers Classification ML Project\n",
    "\n",
    "\n",
    "  The goal is to create a Machine Learning model that can learn from the measurements of these irises whose species are already known, so that we can predict the species for the new irises.\n"
   ]
  },
  {
   "cell_type": "markdown",
   "id": "e6eebd56",
   "metadata": {},
   "source": [
    "# Steps\n",
    "\n",
    "1. Step 1 - Import libraries\n",
    "2. Step 2 - Understanding the data\n",
    "3. Step 3 - Missing values's imputation\n",
    "4. Step 4 - Data visualization\n",
    "5. Step 5 - Model building Part A\n",
    "6. Step 6 - Model building Part B\n",
    "7. Step 7 - Evaluating the model"
   ]
  },
  {
   "cell_type": "markdown",
   "id": "b778e127",
   "metadata": {},
   "source": [
    "# 1. Import Libraries"
   ]
  },
  {
   "cell_type": "code",
   "execution_count": 2,
   "id": "af29c8c2",
   "metadata": {},
   "outputs": [],
   "source": [
    "import pandas as pd\n",
    "import numpy as np\n",
    "\n",
    "import matplotlib.pyplot as plt\n",
    "import seaborn as sb\n",
    "import sklearn"
   ]
  },
  {
   "cell_type": "code",
   "execution_count": 3,
   "id": "2c58f1a2",
   "metadata": {},
   "outputs": [],
   "source": [
    "%matplotlib inline\n",
    "from sklearn.model_selection import train_test_split\n",
    "from sklearn.metrics import classification_report\n",
    "from sklearn.svm import SVC\n",
    "from sklearn.metrics import accuracy_score"
   ]
  },
  {
   "cell_type": "markdown",
   "id": "63ef6853",
   "metadata": {},
   "source": [
    "# Import dataset from CSV file"
   ]
  },
  {
   "cell_type": "code",
   "execution_count": 4,
   "id": "1d1cfa0d",
   "metadata": {},
   "outputs": [],
   "source": [
    "iris_data = pd.read_csv('iris.data')\n"
   ]
  },
  {
   "cell_type": "code",
   "execution_count": 5,
   "id": "5d46e676",
   "metadata": {},
   "outputs": [
    {
     "data": {
      "text/html": [
       "<div>\n",
       "<style scoped>\n",
       "    .dataframe tbody tr th:only-of-type {\n",
       "        vertical-align: middle;\n",
       "    }\n",
       "\n",
       "    .dataframe tbody tr th {\n",
       "        vertical-align: top;\n",
       "    }\n",
       "\n",
       "    .dataframe thead th {\n",
       "        text-align: right;\n",
       "    }\n",
       "</style>\n",
       "<table border=\"1\" class=\"dataframe\">\n",
       "  <thead>\n",
       "    <tr style=\"text-align: right;\">\n",
       "      <th></th>\n",
       "      <th>5.1</th>\n",
       "      <th>3.5</th>\n",
       "      <th>1.4</th>\n",
       "      <th>0.2</th>\n",
       "      <th>Iris-setosa</th>\n",
       "    </tr>\n",
       "  </thead>\n",
       "  <tbody>\n",
       "    <tr>\n",
       "      <th>0</th>\n",
       "      <td>4.9</td>\n",
       "      <td>3.0</td>\n",
       "      <td>1.4</td>\n",
       "      <td>0.2</td>\n",
       "      <td>Iris-setosa</td>\n",
       "    </tr>\n",
       "    <tr>\n",
       "      <th>1</th>\n",
       "      <td>4.7</td>\n",
       "      <td>3.2</td>\n",
       "      <td>1.3</td>\n",
       "      <td>0.2</td>\n",
       "      <td>Iris-setosa</td>\n",
       "    </tr>\n",
       "    <tr>\n",
       "      <th>2</th>\n",
       "      <td>4.6</td>\n",
       "      <td>3.1</td>\n",
       "      <td>1.5</td>\n",
       "      <td>0.2</td>\n",
       "      <td>Iris-setosa</td>\n",
       "    </tr>\n",
       "    <tr>\n",
       "      <th>3</th>\n",
       "      <td>5.0</td>\n",
       "      <td>3.6</td>\n",
       "      <td>1.4</td>\n",
       "      <td>0.2</td>\n",
       "      <td>Iris-setosa</td>\n",
       "    </tr>\n",
       "    <tr>\n",
       "      <th>4</th>\n",
       "      <td>5.4</td>\n",
       "      <td>3.9</td>\n",
       "      <td>1.7</td>\n",
       "      <td>0.4</td>\n",
       "      <td>Iris-setosa</td>\n",
       "    </tr>\n",
       "  </tbody>\n",
       "</table>\n",
       "</div>"
      ],
      "text/plain": [
       "   5.1  3.5  1.4  0.2  Iris-setosa\n",
       "0  4.9  3.0  1.4  0.2  Iris-setosa\n",
       "1  4.7  3.2  1.3  0.2  Iris-setosa\n",
       "2  4.6  3.1  1.5  0.2  Iris-setosa\n",
       "3  5.0  3.6  1.4  0.2  Iris-setosa\n",
       "4  5.4  3.9  1.7  0.4  Iris-setosa"
      ]
     },
     "execution_count": 5,
     "metadata": {},
     "output_type": "execute_result"
    }
   ],
   "source": [
    "iris_data.head(5)"
   ]
  },
  {
   "cell_type": "code",
   "execution_count": 6,
   "id": "a7a6bd51",
   "metadata": {},
   "outputs": [
    {
     "data": {
      "text/plain": [
       "Index(['5.1', '3.5', '1.4', '0.2', 'Iris-setosa'], dtype='object')"
      ]
     },
     "execution_count": 6,
     "metadata": {},
     "output_type": "execute_result"
    }
   ],
   "source": [
    "iris_data.columns"
   ]
  },
  {
   "cell_type": "code",
   "execution_count": 19,
   "id": "c7ee4b9b",
   "metadata": {},
   "outputs": [],
   "source": [
    "columns = ['Sepal_length', 'Sepal_width', 'Petal_length', 'Petal_width', 'Class']"
   ]
  },
  {
   "cell_type": "code",
   "execution_count": 20,
   "id": "8cdfde75",
   "metadata": {},
   "outputs": [
    {
     "data": {
      "text/html": [
       "<div>\n",
       "<style scoped>\n",
       "    .dataframe tbody tr th:only-of-type {\n",
       "        vertical-align: middle;\n",
       "    }\n",
       "\n",
       "    .dataframe tbody tr th {\n",
       "        vertical-align: top;\n",
       "    }\n",
       "\n",
       "    .dataframe thead th {\n",
       "        text-align: right;\n",
       "    }\n",
       "</style>\n",
       "<table border=\"1\" class=\"dataframe\">\n",
       "  <thead>\n",
       "    <tr style=\"text-align: right;\">\n",
       "      <th></th>\n",
       "      <th>Sepal_length</th>\n",
       "      <th>Sepal_width</th>\n",
       "      <th>Petal_length</th>\n",
       "      <th>Petal_width</th>\n",
       "      <th>Class</th>\n",
       "    </tr>\n",
       "  </thead>\n",
       "  <tbody>\n",
       "    <tr>\n",
       "      <th>0</th>\n",
       "      <td>4.9</td>\n",
       "      <td>3.0</td>\n",
       "      <td>1.4</td>\n",
       "      <td>0.2</td>\n",
       "      <td>Iris-setosa</td>\n",
       "    </tr>\n",
       "    <tr>\n",
       "      <th>1</th>\n",
       "      <td>4.7</td>\n",
       "      <td>3.2</td>\n",
       "      <td>1.3</td>\n",
       "      <td>0.2</td>\n",
       "      <td>Iris-setosa</td>\n",
       "    </tr>\n",
       "    <tr>\n",
       "      <th>2</th>\n",
       "      <td>4.6</td>\n",
       "      <td>3.1</td>\n",
       "      <td>1.5</td>\n",
       "      <td>0.2</td>\n",
       "      <td>Iris-setosa</td>\n",
       "    </tr>\n",
       "    <tr>\n",
       "      <th>3</th>\n",
       "      <td>5.0</td>\n",
       "      <td>3.6</td>\n",
       "      <td>1.4</td>\n",
       "      <td>0.2</td>\n",
       "      <td>Iris-setosa</td>\n",
       "    </tr>\n",
       "    <tr>\n",
       "      <th>4</th>\n",
       "      <td>5.4</td>\n",
       "      <td>3.9</td>\n",
       "      <td>1.7</td>\n",
       "      <td>0.4</td>\n",
       "      <td>Iris-setosa</td>\n",
       "    </tr>\n",
       "  </tbody>\n",
       "</table>\n",
       "</div>"
      ],
      "text/plain": [
       "   Sepal_length  Sepal_width  Petal_length  Petal_width        Class\n",
       "0           4.9          3.0           1.4          0.2  Iris-setosa\n",
       "1           4.7          3.2           1.3          0.2  Iris-setosa\n",
       "2           4.6          3.1           1.5          0.2  Iris-setosa\n",
       "3           5.0          3.6           1.4          0.2  Iris-setosa\n",
       "4           5.4          3.9           1.7          0.4  Iris-setosa"
      ]
     },
     "execution_count": 20,
     "metadata": {},
     "output_type": "execute_result"
    }
   ],
   "source": [
    "iris_data.columns = columns\n",
    "iris_data.head()"
   ]
  },
  {
   "cell_type": "markdown",
   "id": "8e5a505d",
   "metadata": {},
   "source": [
    "# 2. Understanding the data"
   ]
  },
  {
   "cell_type": "code",
   "execution_count": 22,
   "id": "a32138b1",
   "metadata": {},
   "outputs": [
    {
     "data": {
      "text/plain": [
       "(149, 5)"
      ]
     },
     "execution_count": 22,
     "metadata": {},
     "output_type": "execute_result"
    }
   ],
   "source": [
    "iris_data.shape"
   ]
  },
  {
   "cell_type": "code",
   "execution_count": 23,
   "id": "43beaaec",
   "metadata": {},
   "outputs": [
    {
     "name": "stdout",
     "output_type": "stream",
     "text": [
      "<class 'pandas.core.frame.DataFrame'>\n",
      "RangeIndex: 149 entries, 0 to 148\n",
      "Data columns (total 5 columns):\n",
      " #   Column        Non-Null Count  Dtype  \n",
      "---  ------        --------------  -----  \n",
      " 0   Sepal_length  149 non-null    float64\n",
      " 1   Sepal_width   149 non-null    float64\n",
      " 2   Petal_length  149 non-null    float64\n",
      " 3   Petal_width   149 non-null    float64\n",
      " 4   Class         149 non-null    object \n",
      "dtypes: float64(4), object(1)\n",
      "memory usage: 5.9+ KB\n"
     ]
    }
   ],
   "source": [
    "iris_data.info()"
   ]
  },
  {
   "cell_type": "code",
   "execution_count": 24,
   "id": "aeef1718",
   "metadata": {},
   "outputs": [
    {
     "data": {
      "text/html": [
       "<div>\n",
       "<style scoped>\n",
       "    .dataframe tbody tr th:only-of-type {\n",
       "        vertical-align: middle;\n",
       "    }\n",
       "\n",
       "    .dataframe tbody tr th {\n",
       "        vertical-align: top;\n",
       "    }\n",
       "\n",
       "    .dataframe thead th {\n",
       "        text-align: right;\n",
       "    }\n",
       "</style>\n",
       "<table border=\"1\" class=\"dataframe\">\n",
       "  <thead>\n",
       "    <tr style=\"text-align: right;\">\n",
       "      <th></th>\n",
       "      <th>Sepal_length</th>\n",
       "      <th>Sepal_width</th>\n",
       "      <th>Petal_length</th>\n",
       "      <th>Petal_width</th>\n",
       "    </tr>\n",
       "  </thead>\n",
       "  <tbody>\n",
       "    <tr>\n",
       "      <th>count</th>\n",
       "      <td>149.000000</td>\n",
       "      <td>149.000000</td>\n",
       "      <td>149.000000</td>\n",
       "      <td>149.000000</td>\n",
       "    </tr>\n",
       "    <tr>\n",
       "      <th>mean</th>\n",
       "      <td>5.848322</td>\n",
       "      <td>3.051007</td>\n",
       "      <td>3.774497</td>\n",
       "      <td>1.205369</td>\n",
       "    </tr>\n",
       "    <tr>\n",
       "      <th>std</th>\n",
       "      <td>0.828594</td>\n",
       "      <td>0.433499</td>\n",
       "      <td>1.759651</td>\n",
       "      <td>0.761292</td>\n",
       "    </tr>\n",
       "    <tr>\n",
       "      <th>min</th>\n",
       "      <td>4.300000</td>\n",
       "      <td>2.000000</td>\n",
       "      <td>1.000000</td>\n",
       "      <td>0.100000</td>\n",
       "    </tr>\n",
       "    <tr>\n",
       "      <th>25%</th>\n",
       "      <td>5.100000</td>\n",
       "      <td>2.800000</td>\n",
       "      <td>1.600000</td>\n",
       "      <td>0.300000</td>\n",
       "    </tr>\n",
       "    <tr>\n",
       "      <th>50%</th>\n",
       "      <td>5.800000</td>\n",
       "      <td>3.000000</td>\n",
       "      <td>4.400000</td>\n",
       "      <td>1.300000</td>\n",
       "    </tr>\n",
       "    <tr>\n",
       "      <th>75%</th>\n",
       "      <td>6.400000</td>\n",
       "      <td>3.300000</td>\n",
       "      <td>5.100000</td>\n",
       "      <td>1.800000</td>\n",
       "    </tr>\n",
       "    <tr>\n",
       "      <th>max</th>\n",
       "      <td>7.900000</td>\n",
       "      <td>4.400000</td>\n",
       "      <td>6.900000</td>\n",
       "      <td>2.500000</td>\n",
       "    </tr>\n",
       "  </tbody>\n",
       "</table>\n",
       "</div>"
      ],
      "text/plain": [
       "       Sepal_length  Sepal_width  Petal_length  Petal_width\n",
       "count    149.000000   149.000000    149.000000   149.000000\n",
       "mean       5.848322     3.051007      3.774497     1.205369\n",
       "std        0.828594     0.433499      1.759651     0.761292\n",
       "min        4.300000     2.000000      1.000000     0.100000\n",
       "25%        5.100000     2.800000      1.600000     0.300000\n",
       "50%        5.800000     3.000000      4.400000     1.300000\n",
       "75%        6.400000     3.300000      5.100000     1.800000\n",
       "max        7.900000     4.400000      6.900000     2.500000"
      ]
     },
     "execution_count": 24,
     "metadata": {},
     "output_type": "execute_result"
    }
   ],
   "source": [
    "iris_data.describe()"
   ]
  },
  {
   "cell_type": "markdown",
   "id": "558316ad",
   "metadata": {},
   "source": [
    "# 3. Missing value's imputation"
   ]
  },
  {
   "cell_type": "code",
   "execution_count": 25,
   "id": "065a39a2",
   "metadata": {},
   "outputs": [
    {
     "data": {
      "text/plain": [
       "Sepal_length    0\n",
       "Sepal_width     0\n",
       "Petal_length    0\n",
       "Petal_width     0\n",
       "Class           0\n",
       "dtype: int64"
      ]
     },
     "execution_count": 25,
     "metadata": {},
     "output_type": "execute_result"
    }
   ],
   "source": [
    "iris_data.isnull().sum()"
   ]
  },
  {
   "cell_type": "markdown",
   "id": "f7cecba2",
   "metadata": {},
   "source": [
    "# 4. Data visualization\n",
    "\n",
    "\n",
    "# Box plot"
   ]
  },
  {
   "cell_type": "code",
   "execution_count": 26,
   "id": "5112c853",
   "metadata": {},
   "outputs": [
    {
     "data": {
      "image/png": "[encoded data removed]",
      "text/plain": [
       "<Figure size 432x288 with 1 Axes>"
      ]
     },
     "metadata": {
      "needs_background": "light"
     },
     "output_type": "display_data"
    }
   ],
   "source": [
    "sb.boxplot(data = iris_data, width= 0.5, fliersize = 5)\n",
    "sb.set(rc = {\"figure.figsize\" : (6,6)})"
   ]
  },
  {
   "cell_type": "markdown",
   "id": "e3ea8ba6",
   "metadata": {},
   "source": [
    "# Exploring the correlation between different columns\n",
    "\n",
    "\n",
    "\n",
    "# Heatmap"
   ]
  },
  {
   "cell_type": "code",
   "execution_count": 28,
   "id": "a917ab4c",
   "metadata": {},
   "outputs": [
    {
     "data": {
      "text/plain": [
       "Index(['Sepal_length', 'Sepal_width', 'Petal_length', 'Petal_width', 'Class'], dtype='object')"
      ]
     },
     "execution_count": 28,
     "metadata": {},
     "output_type": "execute_result"
    },
    {
     "data": {
      "image/png": "[encoded data removed]",
      "text/plain": [
       "<Figure size 576x432 with 2 Axes>"
      ]
     },
     "metadata": {},
     "output_type": "display_data"
    }
   ],
   "source": [
    "corr = iris_data.corr()\n",
    "plt.figure(figsize = (8,6))\n",
    "sb.heatmap(corr, annot=True)\n",
    "iris_data.columns"
   ]
  },
  {
   "cell_type": "markdown",
   "id": "44e45718",
   "metadata": {},
   "source": [
    "From the heatmap we can see the correlation between different features that can affect a iris_data listing. There's correlation among Sepal_length to reviews to Petal_length and Petal_width gives almost the same information."
   ]
  },
  {
   "cell_type": "markdown",
   "id": "40f267e2",
   "metadata": {},
   "source": [
    "\n",
    "\n",
    "\n",
    "# Violin plot"
   ]
  },
  {
   "cell_type": "code",
   "execution_count": 29,
   "id": "8f41f9bd",
   "metadata": {},
   "outputs": [
    {
     "data": {
      "image/png": "[encoded data removed]",
      "text/plain": [
       "<Figure size 432x432 with 1 Axes>"
      ]
     },
     "metadata": {},
     "output_type": "display_data"
    },
    {
     "data": {
      "image/png": "[encoded data removed]",
      "text/plain": [
       "<Figure size 432x432 with 1 Axes>"
      ]
     },
     "metadata": {},
     "output_type": "display_data"
    },
    {
     "data": {
      "image/png": "[encoded data removed]",
      "text/plain": [
       "<Figure size 432x432 with 1 Axes>"
      ]
     },
     "metadata": {},
     "output_type": "display_data"
    },
    {
     "data": {
      "image/png": "[encoded data removed]",
      "text/plain": [
       "<Figure size 432x432 with 1 Axes>"
      ]
     },
     "metadata": {},
     "output_type": "display_data"
    }
   ],
   "source": [
    "sb.violinplot(y = 'Class', x = 'Sepal_length', data= iris_data, inner = 'quartile')\n",
    "plt.show()\n",
    "\n",
    "sb.violinplot(y = 'Class', x = 'Sepal_width', data= iris_data, inner = 'quartile')\n",
    "plt.show()\n",
    "\n",
    "sb.violinplot(y = 'Class', x = 'Petal_length', data= iris_data, inner = 'quartile')\n",
    "plt.show()\n",
    "\n",
    "sb.violinplot(y = 'Class', x = 'Petal_width', data= iris_data, inner = 'quartile')\n",
    "plt.show()"
   ]
  },
  {
   "cell_type": "markdown",
   "id": "2da48865",
   "metadata": {},
   "source": [
    "The above plotted Violin plot says that iris-Setosa class is having a smaller petal length and peatl width compared to other class"
   ]
  },
  {
   "cell_type": "markdown",
   "id": "deca7abd",
   "metadata": {},
   "source": [
    "# 5. Model building Part A"
   ]
  },
  {
   "cell_type": "markdown",
   "id": "f55adc64",
   "metadata": {},
   "source": [
    "\n",
    "\n",
    "\n",
    "# 5.1 x is having all the dependent variables.\n",
    "\n",
    "## y is having an independent variable.\n"
   ]
  },
  {
   "cell_type": "code",
   "execution_count": 33,
   "id": "28bdd406",
   "metadata": {},
   "outputs": [
    {
     "name": "stdout",
     "output_type": "stream",
     "text": [
      "x shape: (149, 4) | y shape: (149,)\n"
     ]
    }
   ],
   "source": [
    "x = iris_data.drop(['Class'], axis = 1)\n",
    "y = iris_data['Class']\n",
    "print(f'x shape: {x.shape} | y shape: {y.shape}')"
   ]
  },
  {
   "cell_type": "markdown",
   "id": "a5b4ef54",
   "metadata": {},
   "source": [
    "# 5.2 Train Test Split"
   ]
  },
  {
   "cell_type": "code",
   "execution_count": 34,
   "id": "fb2a75b0",
   "metadata": {},
   "outputs": [],
   "source": [
    "x_train, x_test, y_train, y_test = train_test_split(x, y, test_size = 0.10, random_state = 1)"
   ]
  },
  {
   "cell_type": "markdown",
   "id": "9b8189bd",
   "metadata": {},
   "source": [
    "## 5.3 Model creation\n",
    "\n",
    "Support Vector Classifier (SVC) is performing better than other algorithms. Let's train SVC model on our training set and predict on test set in next step."
   ]
  },
  {
   "cell_type": "code",
   "execution_count": 35,
   "id": "3b1ebb4b",
   "metadata": {},
   "outputs": [],
   "source": [
    "model = []\n",
    "model.append(('SVC', SVC(gamma = 'auto')))"
   ]
  },
  {
   "cell_type": "markdown",
   "id": "bd75d7f9",
   "metadata": {},
   "source": [
    "# 6. Model building Part B"
   ]
  },
  {
   "cell_type": "markdown",
   "id": "cb2fb718",
   "metadata": {},
   "source": [
    "# 6.1 We are defining our SVC model and passing gamma as auto.\n",
    "\n",
    "# 6.2 After that training the model on x_train and y_train using .fit() method.\n",
    "\n",
    "# 6.3 Then we are predicting on x_test using .predict() method."
   ]
  },
  {
   "cell_type": "code",
   "execution_count": 36,
   "id": "f15ef7e0",
   "metadata": {},
   "outputs": [],
   "source": [
    "model = SVC(gamma='auto')\n",
    "model.fit(x_train, y_train)\n",
    "prediction = model.predict(x_test)"
   ]
  },
  {
   "cell_type": "markdown",
   "id": "b7938b82",
   "metadata": {},
   "source": [
    "# 6.4 Now checking the accuracy of model"
   ]
  },
  {
   "cell_type": "code",
   "execution_count": 37,
   "id": "6cfe4cb3",
   "metadata": {},
   "outputs": [
    {
     "name": "stdout",
     "output_type": "stream",
     "text": [
      "Test Accuracy: 0.9333333333333333\n",
      "Classification report: \n",
      "                  precision    recall  f1-score   support\n",
      "\n",
      "    Iris-setosa       1.00      1.00      1.00         4\n",
      "Iris-versicolor       0.90      1.00      0.95         9\n",
      " Iris-virginica       1.00      0.50      0.67         2\n",
      "\n",
      "       accuracy                           0.93        15\n",
      "      macro avg       0.97      0.83      0.87        15\n",
      "   weighted avg       0.94      0.93      0.92        15\n",
      "\n"
     ]
    }
   ],
   "source": [
    "print(f'Test Accuracy: {accuracy_score(y_test, prediction)}')\n",
    "print(f'Classification report: \\n {classification_report(y_test, prediction)}')"
   ]
  },
  {
   "cell_type": "markdown",
   "id": "3ec67b77",
   "metadata": {},
   "source": [
    "# Conclusion"
   ]
  },
  {
   "cell_type": "markdown",
   "id": "d00bcf92",
   "metadata": {},
   "source": [
    "For this model, the accuracy on the test set is 0.93, which means the model made the right prediction for 93% of the irises in the given dataset. We can expect the model to be correc 93% of the time for predicting the species of new irises. This is high level of accuracy and it means that our model may be trustworthy enough to use."
   ]
  }
 ],
 "metadata": {
  "kernelspec": {
   "display_name": "Python 3 (ipykernel)",
   "language": "python",
   "name": "python3"
  },
  "language_info": {
   "codemirror_mode": {
    "name": "ipython",
    "version": 3
   },
   "file_extension": ".py",
   "mimetype": "text/x-python",
   "name": "python",
   "nbconvert_exporter": "python",
   "pygments_lexer": "ipython3",
   "version": "3.9.12"
  }
 },
 "nbformat": 4,
 "nbformat_minor": 5
}
